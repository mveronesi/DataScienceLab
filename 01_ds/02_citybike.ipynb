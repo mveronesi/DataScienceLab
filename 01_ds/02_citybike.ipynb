{
 "cells": [
  {
   "cell_type": "code",
   "execution_count": null,
   "id": "0f8d85c0",
   "metadata": {},
   "outputs": [],
   "source": [
    "import json\n",
    "\n",
    "dataset = None\n",
    "\n",
    "with open(\"../datasets/to-bike.json\") as f:\n",
    "    dataset = json.load(f)"
   ]
  },
  {
   "cell_type": "code",
   "execution_count": 17,
   "id": "baa13a82",
   "metadata": {},
   "outputs": [
    {
     "name": "stdout",
     "output_type": "stream",
     "text": [
      "Active stations:  41\n",
      "Total bikes available:  156\n",
      "Free docks:  319\n"
     ]
    }
   ],
   "source": [
    "stations = dataset['network']['stations']\n",
    "active_stations = 0\n",
    "total_bikes = 0\n",
    "free_docks = 0\n",
    "for s in stations:\n",
    "    if(s['extra']['status'] == 'online'):\n",
    "        active_stations += 1\n",
    "    total_bikes += s['free_bikes']\n",
    "    free_docks += s['empty_slots']\n",
    "    \n",
    "print('Active stations: ', active_stations)\n",
    "print('Total bikes available: ', total_bikes)\n",
    "print('Free docks: ', free_docks)"
   ]
  }
 ],
 "metadata": {
  "kernelspec": {
   "display_name": "Python 3 (ipykernel)",
   "language": "python",
   "name": "python3"
  },
  "language_info": {
   "codemirror_mode": {
    "name": "ipython",
    "version": 3
   },
   "file_extension": ".py",
   "mimetype": "text/x-python",
   "name": "python",
   "nbconvert_exporter": "python",
   "pygments_lexer": "ipython3",
   "version": "3.9.7"
  }
 },
 "nbformat": 4,
 "nbformat_minor": 5
}
