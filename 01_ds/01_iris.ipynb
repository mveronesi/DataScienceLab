{
 "cells": [
  {
   "cell_type": "code",
   "execution_count": null,
   "id": "8171375d",
   "metadata": {},
   "outputs": [],
   "source": [
    "# import iris dataset\n",
    "import csv\n",
    "\n",
    "flowers = []\n",
    "\n",
    "with open(\"../datasets/iris.csv\") as f:\n",
    "    for row in csv.reader(f):\n",
    "        flowers.append([float(row[0]), float(row[1]), float(row[2]), float(row[3]), row[4]])\n",
    "\n",
    "print(flowers)"
   ]
  },
  {
   "cell_type": "code",
   "execution_count": 14,
   "id": "7bb1bfd1",
   "metadata": {},
   "outputs": [
    {
     "name": "stdout",
     "output_type": "stream",
     "text": [
      "N:  150\n",
      "sepal_length_mean:  5.843333333333335\n",
      "sepal_width_mean 3.0540000000000007\n",
      "petal_length_mean 3.7586666666666693\n",
      "petal_width_mean 1.1986666666666672\n"
     ]
    }
   ],
   "source": [
    "# calculating mean\n",
    "sepal_length_mean = 0\n",
    "sepal_width_mean = 0\n",
    "petal_length_mean = 0\n",
    "petal_width_mean = 0\n",
    "\n",
    "for i in flowers:\n",
    "    sepal_length_mean += i[0]\n",
    "    sepal_width_mean += i[1]\n",
    "    petal_length_mean += i[2]\n",
    "    petal_width_mean += i[3]\n",
    "\n",
    "N = len(flowers)\n",
    "print('N: ', N)\n",
    "sepal_length_mean /= N\n",
    "sepal_width_mean /= N\n",
    "petal_length_mean /= N\n",
    "petal_width_mean /= N\n",
    "print('sepal_length_mean: ', sepal_length_mean)\n",
    "print('sepal_width_mean', sepal_width_mean)\n",
    "print('petal_length_mean', petal_length_mean)\n",
    "print('petal_width_mean', petal_width_mean)"
   ]
  },
  {
   "cell_type": "code",
   "execution_count": 18,
   "id": "f6faa42e",
   "metadata": {},
   "outputs": [
    {
     "name": "stdout",
     "output_type": "stream",
     "text": [
      "sepal_length_dev:  0.8253012917851409\n",
      "sepal_width_dev:  0.4321465800705435\n",
      "petal_length_dev:  1.7585291834055201\n",
      "petal_width_dev:  0.760612618588172\n"
     ]
    }
   ],
   "source": [
    "# calculating standard deviation\n",
    "sepal_length_dev = 0\n",
    "sepal_width_dev = 0\n",
    "petal_length_dev = 0\n",
    "petal_width_dev = 0\n",
    "\n",
    "for i in flowers:\n",
    "    sepal_length_dev += (i[0] - sepal_length_mean)**2\n",
    "    sepal_width_dev += (i[1] - sepal_width_mean)**2\n",
    "    petal_length_dev += (i[2] - petal_length_mean)**2\n",
    "    petal_width_dev += (i[3] - petal_width_mean)**2\n",
    "\n",
    "sepal_length_dev /= N\n",
    "sepal_width_dev /= N\n",
    "petal_length_dev /= N\n",
    "petal_width_dev /= N\n",
    "sepal_length_dev **= 0.5\n",
    "sepal_width_dev **= 0.5\n",
    "petal_length_dev **= 0.5\n",
    "petal_width_dev **= 0.5\n",
    "print('sepal_length_dev: ', sepal_length_dev)\n",
    "print('sepal_width_dev: ', sepal_width_dev)\n",
    "print('petal_length_dev: ', petal_length_dev)\n",
    "print('petal_width_dev: ', petal_width_dev)"
   ]
  },
  {
   "cell_type": "code",
   "execution_count": 20,
   "id": "32ce8077",
   "metadata": {},
   "outputs": [],
   "source": [
    "def map_flower_to_num(name):\n",
    "    if(name == 'Iris-setosa'):\n",
    "        return 0\n",
    "    if(name == 'Iris-versicolor'):\n",
    "        return 1\n",
    "    if(name == 'Iris-virginica'):\n",
    "        return 2\n",
    "    return -1"
   ]
  },
  {
   "cell_type": "code",
   "execution_count": 28,
   "id": "0f2c0d54",
   "metadata": {},
   "outputs": [],
   "source": [
    "def map_number_to_flower(n):\n",
    "    if(n==0):\n",
    "        return 'Iris-setosa'\n",
    "    if(n==1):\n",
    "        return 'Iris-versicolor'\n",
    "    if(n==2):\n",
    "        return 'Iris-virginica'\n",
    "    return \"ERROR\""
   ]
  },
  {
   "cell_type": "code",
   "execution_count": 29,
   "id": "70b8e9fe",
   "metadata": {},
   "outputs": [
    {
     "name": "stdout",
     "output_type": "stream",
     "text": [
      "Sepal length mean for Iris-setosa: 5.005999999999999\n",
      "Sepal width mean for Iris-setosa: 3.4180000000000006\n",
      "Petal length mean for Iris-setosa: 1.464\n",
      "Petal width mean for Iris-setosa: 0.2439999999999999\n",
      "Sepal length mean for Iris-versicolor: 5.936\n",
      "Sepal width mean for Iris-versicolor: 2.7700000000000005\n",
      "Petal length mean for Iris-versicolor: 4.26\n",
      "Petal width mean for Iris-versicolor: 1.3259999999999998\n",
      "Sepal length mean for Iris-virginica: 6.587999999999998\n",
      "Sepal width mean for Iris-virginica: 2.9739999999999998\n",
      "Petal length mean for Iris-virginica: 5.552\n",
      "Petal width mean for Iris-virginica: 2.026\n"
     ]
    }
   ],
   "source": [
    "sepal_length_mean_split = [0, 0, 0]\n",
    "sepal_width_mean_split = [0, 0, 0]\n",
    "petal_length_mean_split = [0, 0, 0]\n",
    "petal_width_mean_split = [0, 0, 0]\n",
    "num_split = [0, 0, 0]\n",
    "\n",
    "for i in flowers:\n",
    "    tmp = map_flower_to_num(i[4])\n",
    "    num_split[tmp] += 1\n",
    "    sepal_length_mean_split[tmp] += i[0]\n",
    "    sepal_width_mean_split[tmp] += i[1]\n",
    "    petal_length_mean_split[tmp] += i[2]\n",
    "    petal_width_mean_split[tmp] += i[3]\n",
    "\n",
    "for i in range(0, 3):\n",
    "    sepal_length_mean_split[i] /= num_split[i]\n",
    "    sepal_width_mean_split[i] /= num_split[i]\n",
    "    petal_length_mean_split[i] /= num_split[i]\n",
    "    petal_width_mean_split[i] /= num_split[i]\n",
    "    print(f'Sepal length mean for {map_number_to_flower(i)}: {sepal_length_mean_split[i]}')\n",
    "    print(f'Sepal width mean for {map_number_to_flower(i)}: {sepal_width_mean_split[i]}')\n",
    "    print(f'Petal length mean for {map_number_to_flower(i)}: {petal_length_mean_split[i]}')\n",
    "    print(f'Petal width mean for {map_number_to_flower(i)}: {petal_width_mean_split[i]}')"
   ]
  },
  {
   "cell_type": "code",
   "execution_count": null,
   "id": "6e1fe9cc",
   "metadata": {},
   "outputs": [],
   "source": [
    "sepal_length_dev_split = [0, 0, 0]\n",
    "sepal_width_dev_split = [0, 0, 0]\n",
    "petal_length_dev_split = [0, 0, 0]\n",
    "petal_width_dev_split = [0, 0, 0]\n"
   ]
  }
 ],
 "metadata": {
  "kernelspec": {
   "display_name": "Python 3 (ipykernel)",
   "language": "python",
   "name": "python3"
  },
  "language_info": {
   "codemirror_mode": {
    "name": "ipython",
    "version": 3
   },
   "file_extension": ".py",
   "mimetype": "text/x-python",
   "name": "python",
   "nbconvert_exporter": "python",
   "pygments_lexer": "ipython3",
   "version": "3.9.7"
  }
 },
 "nbformat": 4,
 "nbformat_minor": 5
}
