{
 "cells": [
  {
   "cell_type": "code",
   "execution_count": 1,
   "metadata": {},
   "outputs": [],
   "source": [
    "# 0) importing useful libraries\n",
    "from sklearn.datasets import fetch_openml\n",
    "from sklearn.metrics import accuracy_score\n",
    "from sklearn.model_selection import train_test_split, ParameterGrid\n",
    "from sklearn.tree import DecisionTreeClassifier\n",
    "from sklearn.ensemble import RandomForestClassifier\n",
    "import pickle\n",
    "from os.path import exists\n",
    "import seaborn as sns\n",
    "import numpy as np\n",
    "import matplotlib.pyplot as plt\n",
    "import numpy as np\n",
    "from sklearn.tree import DecisionTreeClassifier\n",
    "from concurrent.futures import ThreadPoolExecutor, wait, ALL_COMPLETED"
   ]
  },
  {
   "cell_type": "code",
   "execution_count": 2,
   "metadata": {},
   "outputs": [],
   "source": [
    "# 1) loading MNIST dataset\n",
    "dataset = None\n",
    "if exists(\"../datasets/mnist\") == True:\n",
    "    with open(\"../datasets/mnist\", \"rb\") as f:\n",
    "        dataset = pickle.load(f)\n",
    "else:\n",
    "    dataset = fetch_openml(\"mnist_784\")\n",
    "    with open(\"./mnist\", \"rb\") as f:\n",
    "        pickle.dump(dataset, f)\n",
    "\n",
    "if dataset is None:\n",
    "    print(\"WARNING: DATASET NOT LOADED\")\n",
    "else:\n",
    "    X = np.array(dataset[\"data\"], dtype=int)\n",
    "    y = np.array(dataset[\"target\"], dtype=int)"
   ]
  },
  {
   "cell_type": "code",
   "execution_count": 3,
   "metadata": {},
   "outputs": [
    {
     "name": "stdout",
     "output_type": "stream",
     "text": [
      "Accuracy score:  87.32 %\n"
     ]
    }
   ],
   "source": [
    "# 2) train single decision tree\n",
    "X_train, X_test, y_train, y_test = train_test_split(X, y, test_size=(1/7))\n",
    "model = DecisionTreeClassifier()\n",
    "model.fit(X_train, y_train)\n",
    "y_pred = model.predict(X_test)\n",
    "acc_score = accuracy_score(y_test, y_pred)\n",
    "print(\"Accuracy score: \", acc_score*100, \"%\")"
   ]
  },
  {
   "cell_type": "code",
   "execution_count": 3,
   "metadata": {},
   "outputs": [],
   "source": [
    "def majority_voting(a):\n",
    "    \"\"\"Return the most frequent class in a.\n",
    "\n",
    "    - param a: np.array of shape (n, )\n",
    "    - return: the most recurrent class in a.\n",
    "    \"\"\"\n",
    "    a = np.array(a, dtype=int)\n",
    "    counts = np.bincount(a)\n",
    "    return np.argmax(counts)\n",
    "\n",
    "def build_tree(X, y, N, max_features):\n",
    "    index = np.random.choice(X.shape[0], N, replace=True)\n",
    "    X_train = X[index]\n",
    "    y_train = y[index]\n",
    "    model = DecisionTreeClassifier(max_features=max_features)\n",
    "    model.fit(X_train, y_train)\n",
    "    return model\n",
    "\n",
    "def build_random_forest(X, y, n_trees, max_features):\n",
    "    print(\"Training with \", n_trees, \" trees\")\n",
    "    model = MyRandomForestClassifier(n_trees, max_features=max_features)\n",
    "    model.fit(X, y)\n",
    "    return model\n",
    "\n",
    "class MyRandomForestClassifier():\n",
    "    def __init__(self, n_estimators, max_features=None, N=None, criteria=\"majority\"):\n",
    "        \"\"\"Create a random forest model.\n",
    "\n",
    "        - param n_estimators: number of trees in the random forest\n",
    "        - param max_features: number of max features that a single tree can consider\n",
    "        - param N: number of samples extracted with replacement from the dataset. If None N = number of samples in training set.\n",
    "        - return: a model ready to be trained\n",
    "        \"\"\"\n",
    "        self.n_estimators = n_estimators\n",
    "        self.max_features = max_features\n",
    "        self.N = N\n",
    "        self.trees = list()\n",
    "        if criteria == \"majority\":\n",
    "            self.criteria = majority_voting\n",
    "        else:\n",
    "            raise ValueError(\"criteria parameter is not valid\")\n",
    "\n",
    "    def fit(self, X, y):\n",
    "        \"\"\"train the trees of this random forest using subsets of X (and y)\"\"\"\n",
    "        N = self.N if self.N is not None else len(y)\n",
    "        futures_list = []\n",
    "        with ThreadPoolExecutor(max_workers=8) as exe:\n",
    "            for _ in range(self.n_estimators):\n",
    "                futures_list.append(exe.submit(build_tree, X, y, N, self.max_features))\n",
    "        wait(futures_list, timeout=None, return_when=ALL_COMPLETED)\n",
    "        self.trees = [i.result() for i in futures_list]\n",
    "        \n",
    "    def predict(self, X):\n",
    "        \"\"\"predict the label for each point in X\"\"\"\n",
    "        y_preds = np.zeros((len(X), len(self.trees),))\n",
    "        for i in range(len(self.trees)):\n",
    "            y_preds[:, i] = np.array(self.trees[i].predict(X))\n",
    "        y_pred = np.zeros(len(X))\n",
    "        for i in range(len(y_pred)):\n",
    "            y_pred[i] = self.criteria(y_preds[i, :])\n",
    "        return y_pred"
   ]
  },
  {
   "cell_type": "code",
   "execution_count": 4,
   "metadata": {},
   "outputs": [
    {
     "name": "stdout",
     "output_type": "stream",
     "text": [
      "Parameter configuration:  {'max_depth': None, 'max_features': 28, 'n_estimators': 10}\n",
      "SCORE:  44.78 %\n",
      "Parameter configuration:  {'max_depth': None, 'max_features': 28, 'n_estimators': 20}\n",
      "SCORE:  55.089999999999996 %\n",
      "Parameter configuration:  {'max_depth': None, 'max_features': 28, 'n_estimators': 30}\n",
      "SCORE:  59.96 %\n",
      "Parameter configuration:  {'max_depth': None, 'max_features': 28, 'n_estimators': 40}\n",
      "SCORE:  62.519999999999996 %\n",
      "Parameter configuration:  {'max_depth': None, 'max_features': 28, 'n_estimators': 50}\n",
      "SCORE:  67.81 %\n",
      "Parameter configuration:  {'max_depth': None, 'max_features': 28, 'n_estimators': 60}\n",
      "SCORE:  67.97 %\n",
      "Parameter configuration:  {'max_depth': None, 'max_features': 28, 'n_estimators': 70}\n",
      "SCORE:  69.05 %\n",
      "Parameter configuration:  {'max_depth': None, 'max_features': 28, 'n_estimators': 80}\n",
      "SCORE:  70.65 %\n",
      "Parameter configuration:  {'max_depth': None, 'max_features': 28, 'n_estimators': 90}\n",
      "SCORE:  69.15 %\n",
      "Parameter configuration:  {'max_depth': None, 'max_features': 28, 'n_estimators': 100}\n",
      "SCORE:  71.07 %\n",
      "Parameter configuration:  {'max_depth': 2, 'max_features': 28, 'n_estimators': 10}\n",
      "SCORE:  38.379999999999995 %\n",
      "Parameter configuration:  {'max_depth': 2, 'max_features': 28, 'n_estimators': 20}\n",
      "SCORE:  48.91 %\n",
      "Parameter configuration:  {'max_depth': 2, 'max_features': 28, 'n_estimators': 30}\n",
      "SCORE:  58.14 %\n",
      "Parameter configuration:  {'max_depth': 2, 'max_features': 28, 'n_estimators': 40}\n",
      "SCORE:  57.43000000000001 %\n",
      "Parameter configuration:  {'max_depth': 2, 'max_features': 28, 'n_estimators': 50}\n",
      "SCORE:  62.45 %\n",
      "Parameter configuration:  {'max_depth': 2, 'max_features': 28, 'n_estimators': 60}\n",
      "SCORE:  62.64999999999999 %\n",
      "Parameter configuration:  {'max_depth': 2, 'max_features': 28, 'n_estimators': 70}\n",
      "SCORE:  64.72 %\n",
      "Parameter configuration:  {'max_depth': 2, 'max_features': 28, 'n_estimators': 80}\n",
      "SCORE:  65.98 %\n",
      "Parameter configuration:  {'max_depth': 2, 'max_features': 28, 'n_estimators': 90}\n",
      "SCORE:  68.83 %\n",
      "Parameter configuration:  {'max_depth': 2, 'max_features': 28, 'n_estimators': 100}\n",
      "SCORE:  67.10000000000001 %\n",
      "Parameter configuration:  {'max_depth': 4, 'max_features': 28, 'n_estimators': 10}\n",
      "SCORE:  39.519999999999996 %\n",
      "Parameter configuration:  {'max_depth': 4, 'max_features': 28, 'n_estimators': 20}\n",
      "SCORE:  51.239999999999995 %\n",
      "Parameter configuration:  {'max_depth': 4, 'max_features': 28, 'n_estimators': 30}\n",
      "SCORE:  57.43000000000001 %\n",
      "Parameter configuration:  {'max_depth': 4, 'max_features': 28, 'n_estimators': 40}\n",
      "SCORE:  60.650000000000006 %\n",
      "Parameter configuration:  {'max_depth': 4, 'max_features': 28, 'n_estimators': 50}\n",
      "SCORE:  59.5 %\n",
      "Parameter configuration:  {'max_depth': 4, 'max_features': 28, 'n_estimators': 60}\n",
      "SCORE:  64.41 %\n",
      "Parameter configuration:  {'max_depth': 4, 'max_features': 28, 'n_estimators': 70}\n",
      "SCORE:  66.21000000000001 %\n",
      "Parameter configuration:  {'max_depth': 4, 'max_features': 28, 'n_estimators': 80}\n",
      "SCORE:  66.36 %\n",
      "Parameter configuration:  {'max_depth': 4, 'max_features': 28, 'n_estimators': 90}\n",
      "SCORE:  68.85 %\n",
      "Parameter configuration:  {'max_depth': 4, 'max_features': 28, 'n_estimators': 100}\n",
      "SCORE:  65.81 %\n",
      "Parameter configuration:  {'max_depth': 8, 'max_features': 28, 'n_estimators': 10}\n",
      "SCORE:  46.21 %\n",
      "Parameter configuration:  {'max_depth': 8, 'max_features': 28, 'n_estimators': 20}\n",
      "SCORE:  54.09 %\n",
      "Parameter configuration:  {'max_depth': 8, 'max_features': 28, 'n_estimators': 30}\n",
      "SCORE:  57.50999999999999 %\n",
      "Parameter configuration:  {'max_depth': 8, 'max_features': 28, 'n_estimators': 40}\n",
      "SCORE:  61.95 %\n",
      "Parameter configuration:  {'max_depth': 8, 'max_features': 28, 'n_estimators': 50}\n",
      "SCORE:  62.81 %\n",
      "Parameter configuration:  {'max_depth': 8, 'max_features': 28, 'n_estimators': 60}\n",
      "SCORE:  64.73 %\n",
      "Parameter configuration:  {'max_depth': 8, 'max_features': 28, 'n_estimators': 70}\n",
      "SCORE:  70.84 %\n",
      "Parameter configuration:  {'max_depth': 8, 'max_features': 28, 'n_estimators': 80}\n",
      "SCORE:  68.75 %\n",
      "Parameter configuration:  {'max_depth': 8, 'max_features': 28, 'n_estimators': 90}\n",
      "SCORE:  71.15 %\n",
      "Parameter configuration:  {'max_depth': 8, 'max_features': 28, 'n_estimators': 100}\n",
      "SCORE:  68.83 %\n"
     ]
    }
   ],
   "source": [
    "# 4) forests testing\n",
    "X_train, X_test, y_train, y_test = train_test_split(X, y, test_size=(1/7))\n",
    "params = {\n",
    "    \"max_depth\": [None, 2, 4, 8],\n",
    "    \"max_features\": [int(np.sqrt(X_train.shape[1]))],\n",
    "    \"n_estimators\": np.arange(10, 101, 10)\n",
    "}\n",
    "for config in ParameterGrid(params):\n",
    "    print(\"Parameter configuration: \", config)\n",
    "    model = MyRandomForestClassifier(config[\"n_estimators\"], config[\"max_depth\"], config[\"max_features\"])\n",
    "    model.fit(X_train, y_train)\n",
    "    y_pred = model.predict(X_test)\n",
    "    score = accuracy_score(y_test, y_pred)\n",
    "    print(\"SCORE: \", score*100, \"%\")"
   ]
  },
  {
   "cell_type": "code",
   "execution_count": 14,
   "metadata": {},
   "outputs": [],
   "source": [
    "with open(\"./random_forest\", \"wb\") as f:\n",
    "    pickle.dump(model, f)"
   ]
  },
  {
   "cell_type": "code",
   "execution_count": 4,
   "metadata": {},
   "outputs": [],
   "source": [
    "with open(\"./random_forest\", \"rb\") as f:\n",
    "    model = pickle.load(f)"
   ]
  },
  {
   "cell_type": "code",
   "execution_count": null,
   "metadata": {},
   "outputs": [
    {
     "name": "stdout",
     "output_type": "stream",
     "text": [
      "0.9686\n"
     ]
    }
   ],
   "source": [
    "# 5) \n",
    "model = RandomForestClassifier()\n",
    "model.fit(X_train, y_train)\n",
    "y_pred = model.predict(X_test)\n",
    "acc_score = accuracy_score(y_test, y_pred)\n",
    "print(acc_score)"
   ]
  }
 ],
 "metadata": {
  "interpreter": {
   "hash": "1c4a99f772937549781c325cdf5b910f4117cf63273d9e119b78b6093a0e8cfb"
  },
  "kernelspec": {
   "display_name": "Python 3.9.7 64-bit ('dslab-env': conda)",
   "language": "python",
   "name": "python3"
  },
  "language_info": {
   "codemirror_mode": {
    "name": "ipython",
    "version": 3
   },
   "file_extension": ".py",
   "mimetype": "text/x-python",
   "name": "python",
   "nbconvert_exporter": "python",
   "pygments_lexer": "ipython3",
   "version": "3.9.7"
  },
  "orig_nbformat": 4
 },
 "nbformat": 4,
 "nbformat_minor": 2
}
