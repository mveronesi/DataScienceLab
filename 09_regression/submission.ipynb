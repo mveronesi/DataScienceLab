{
 "cells": [
  {
   "cell_type": "code",
   "execution_count": 1,
   "metadata": {},
   "outputs": [],
   "source": [
    "import pandas as pd\n",
    "from sklearn.ensemble import RandomForestRegressor\n",
    "from datetime import datetime\n",
    "\n",
    "# loading dataset\n",
    "df_dev = pd.read_csv(\"../datasets/NYC_Airbnb/development.csv\")\n",
    "df_eval = pd.read_csv(\"../datasets/NYC_Airbnb/evaluation.csv\")\n",
    "df_dev.drop(columns=[\"name\", \"host_name\", \"neighbourhood\"], inplace=True)\n",
    "df_eval.drop(columns=[\"name\", \"host_name\", \"neighbourhood\"], inplace=True)\n"
   ]
  },
  {
   "cell_type": "code",
   "execution_count": 2,
   "metadata": {},
   "outputs": [],
   "source": [
    "# fixing NaN values\n",
    "df_dev.fillna(\n",
    "    value = {\n",
    "        \"last_review\": \"2008-08-11\",\n",
    "        \"reviews_per_month\": 0\n",
    "    },\n",
    "    inplace=True\n",
    ")\n",
    "df_eval.fillna(\n",
    "    value = {\n",
    "        \"last_review\": \"2008-08-11\",\n",
    "        \"reviews_per_month\": 0\n",
    "    },\n",
    "    inplace=True\n",
    ")\n"
   ]
  },
  {
   "cell_type": "code",
   "execution_count": 3,
   "metadata": {},
   "outputs": [],
   "source": [
    "# converting last_review feature to a numerical value representing days from the newest review\n",
    "newest_review = datetime.today()\n",
    "df_dev[\"last_review\"] = pd.to_datetime(df_dev[\"last_review\"]).apply(lambda x: abs((newest_review - x).days))\n",
    "df_eval[\"last_review\"] = pd.to_datetime(df_eval[\"last_review\"]).apply(lambda x: abs((newest_review - x).days))"
   ]
  },
  {
   "cell_type": "code",
   "execution_count": 4,
   "metadata": {},
   "outputs": [],
   "source": [
    "# one-hot encoding of categorical features\n",
    "df_dev = pd.get_dummies(df_dev, columns=[\"room_type\", \"neighbourhood_group\"], prefix=[\"room_type=\", \"neig_group=\"])\n",
    "df_eval = pd.get_dummies(df_eval, columns=[\"room_type\", \"neighbourhood_group\"], prefix=[\"room_type=\", \"neig_group=\"])"
   ]
  },
  {
   "cell_type": "code",
   "execution_count": 5,
   "metadata": {},
   "outputs": [],
   "source": [
    "# getting dataset as numpy arrays\n",
    "X_dev = df_dev.drop(columns=[\"id\", \"price\"], inplace=False).values\n",
    "y_dev = df_dev[\"price\"].values"
   ]
  },
  {
   "cell_type": "code",
   "execution_count": 6,
   "metadata": {},
   "outputs": [
    {
     "data": {
      "text/plain": [
       "RandomForestRegressor(max_depth=30, max_features='sqrt', n_estimators=500,\n",
       "                      n_jobs=16)"
      ]
     },
     "execution_count": 6,
     "metadata": {},
     "output_type": "execute_result"
    }
   ],
   "source": [
    "model = RandomForestRegressor(n_estimators=500, max_features=\"sqrt\", max_depth=30, n_jobs=16)\n",
    "model.fit(X_dev, y_dev)"
   ]
  },
  {
   "cell_type": "code",
   "execution_count": 7,
   "metadata": {},
   "outputs": [],
   "source": [
    "ids = df_eval[\"id\"].values\n",
    "X_eval = df_eval.drop(columns=[\"id\"], inplace=False).values\n",
    "y_pred = model.predict(X_eval)"
   ]
  },
  {
   "cell_type": "code",
   "execution_count": 9,
   "metadata": {},
   "outputs": [],
   "source": [
    "if len(ids) != len(y_pred):\n",
    "    print(\"ERROR\")\n",
    "with open(\"results.csv\", \"w\") as f:\n",
    "    f.write(\"Id,Predicted\\n\")\n",
    "    for i in range(len(y_pred)):\n",
    "        f.write(str(ids[i]) + \",\" + str(y_pred[i]) + \"\\n\")"
   ]
  }
 ],
 "metadata": {
  "interpreter": {
   "hash": "fd86e9477a69c659a08d66b84022f5f9bd15875679eb9c1dfdd3b3f73d8a5feb"
  },
  "kernelspec": {
   "display_name": "Python 3.9.7 64-bit ('dslab': conda)",
   "language": "python",
   "name": "python3"
  },
  "language_info": {
   "codemirror_mode": {
    "name": "ipython",
    "version": 3
   },
   "file_extension": ".py",
   "mimetype": "text/x-python",
   "name": "python",
   "nbconvert_exporter": "python",
   "pygments_lexer": "ipython3",
   "version": "3.9.7"
  },
  "orig_nbformat": 4
 },
 "nbformat": 4,
 "nbformat_minor": 2
}
