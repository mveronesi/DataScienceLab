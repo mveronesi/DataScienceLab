{
 "cells": [
  {
   "cell_type": "code",
   "execution_count": 1,
   "metadata": {},
   "outputs": [],
   "source": [
    "import pandas as pd\n",
    "import numpy as np\n",
    "from sklearn.preprocessing import StandardScaler\n",
    "from sklearn.metrics import r2_score\n",
    "from sklearn.model_selection import train_test_split\n",
    "from sklearn.ensemble import RandomForestRegressor\n",
    "from sklearn.preprocessing import StandardScaler\n",
    "from datetime import datetime\n",
    "from sklearn.model_selection import KFold\n",
    "from sklearn.preprocessing import OneHotEncoder\n",
    "from sklearn.decomposition import PCA"
   ]
  },
  {
   "cell_type": "code",
   "execution_count": 2,
   "metadata": {},
   "outputs": [],
   "source": [
    "# loading dataset\n",
    "df_dev = pd.read_csv(\"../datasets/NYC_Airbnb/development.csv\")\n",
    "# df_eval = pd.read_csv(\"../datasets/NYC_Airbnb/evaluation.csv\")\n",
    "df_dev.drop(columns=[\"name\", \"host_name\", \"host_id\"], inplace=True)"
   ]
  },
  {
   "cell_type": "code",
   "execution_count": 3,
   "metadata": {},
   "outputs": [],
   "source": [
    "# fixing NaN values\n",
    "df_dev.fillna(\n",
    "    value = {\n",
    "        \"last_review\": \"2008-08-11\", # launch date of AirBnB\n",
    "        \"reviews_per_month\": 0\n",
    "    },\n",
    "    inplace=True\n",
    ")"
   ]
  },
  {
   "cell_type": "code",
   "execution_count": 4,
   "metadata": {},
   "outputs": [],
   "source": [
    "# converting last_review feature to a numerical value representing days from the newest review\n",
    "last_reviews = pd.to_datetime(df_dev[\"last_review\"])\n",
    "newest_review = datetime.today()\n",
    "df_dev[\"last_review\"] = last_reviews.apply(lambda x: abs((newest_review - x).days))"
   ]
  },
  {
   "cell_type": "code",
   "execution_count": 5,
   "metadata": {},
   "outputs": [],
   "source": [
    "# one-hot encoding of categorical features\n",
    "df_dev = pd.get_dummies(df_dev, columns=[\"room_type\", \"neighbourhood_group\", \"neighbourhood\"], prefix=[\"room_type=\", \"neig_group=\", \"neig=\"])\n",
    "#enc = OneHotEncoder(sparse=False)\n",
    "#enc.fit(df_dev[\"room_type\"].values.reshape(-1, 1))\n",
    "#room_type_one_hot = enc.transform(df_dev[\"room_type\"].values.reshape(-1, 1))\n",
    "#enc.fit(df_dev[\"neighbourhood_group\"].values.reshape(-1, 1))\n",
    "#neig_group_one_hot = enc.transform(df_dev[\"neighbourhood_group\"].values.reshape(-1, 1))\n",
    "#enc.fit(df_dev[\"neighbourhood\"].values.reshape(-1, 1))\n",
    "#neig_one_hot = enc.transform(df_dev[\"neighbourhood\"].values.reshape(-1, 1))\n",
    "\n",
    "#df_dev.drop(columns=[\"room_type\", \"neighbourhood_group\", \"neighbourhood\"], inplace=True)"
   ]
  },
  {
   "cell_type": "code",
   "execution_count": 6,
   "metadata": {},
   "outputs": [],
   "source": [
    "# getting dataset as numpy arrays\n",
    "X_dev = df_dev.drop(columns=[\"id\", \"price\"], inplace=False).values\n",
    "y_dev = df_dev[\"price\"].values"
   ]
  },
  {
   "cell_type": "code",
   "execution_count": 8,
   "metadata": {},
   "outputs": [
    {
     "name": "stdout",
     "output_type": "stream",
     "text": [
      "Scores:  [0.25156191 0.14560448 0.12692966 0.15869533 0.12409321]\n",
      "Mean:  0.16137691842159432\n"
     ]
    }
   ],
   "source": [
    "K = 5\n",
    "kf = KFold(n_splits=K)\n",
    "scores = np.zeros((K))\n",
    "n = 0\n",
    "for train_indices, validation_indices in kf.split(X_dev):\n",
    "    X_train = X_dev[train_indices]\n",
    "    X_valid = X_dev[validation_indices]\n",
    "    y_train = y_dev[train_indices]\n",
    "    y_valid = y_dev[validation_indices]\n",
    "    model = RandomForestRegressor(n_estimators=500, max_features=\"sqrt\", max_depth=30, n_jobs=16)\n",
    "    model.fit(X_train, y_train)\n",
    "    y_pred = model.predict(X_valid)\n",
    "    scores[n] = r2_score(y_valid, y_pred)\n",
    "    n += 1\n",
    "print(\"Scores: \", scores)\n",
    "print(\"Mean: \", scores.mean())"
   ]
  },
  {
   "cell_type": "code",
   "execution_count": 8,
   "metadata": {},
   "outputs": [
    {
     "name": "stdout",
     "output_type": "stream",
     "text": [
      "0.20500422389166773\n"
     ]
    }
   ],
   "source": [
    "# testing random forest\n",
    "X_train, X_test, y_train, y_test = train_test_split(X_dev, y_dev, test_size=0.2)\n",
    "model = RandomForestRegressor(n_estimators=500, max_features=\"sqrt\", max_depth=30, n_jobs=16)\n",
    "model.fit(X_train, y_train)\n",
    "y_pred = model.predict(X_test)\n",
    "score = r2_score(y_test, y_pred)\n",
    "print(score)"
   ]
  },
  {
   "cell_type": "code",
   "execution_count": null,
   "metadata": {},
   "outputs": [],
   "source": [
    "# JUNK CODE DO NOT EXECUTE\n",
    "X_train, X_test, y_train, y_test = train_test_split(X_dev, y_dev, test_size=0.2)\n",
    "\n",
    "# separating categorical features from numerical ones\n",
    "X_train_categorical = X_train[:, 8:]\n",
    "X_test_categorical = X_test[:, 8:]\n",
    "X_train_numerical = X_train[:, :8]\n",
    "X_test_numerical = X_test[:, :8]\n",
    "\n",
    "# feature normalization\n",
    "scaler = StandardScaler()\n",
    "scaler.fit(X_train_numerical)\n",
    "X_train_numerical = scaler.transform(X_train_numerical)\n",
    "X_test_numerical = scaler.transform(X_test_numerical)\n",
    "\n",
    "# applying PCA\n",
    "#pca = PCA(n_components=(X_train_numerical.shape[1] - FEATURES_TO_REMOVE), svd_solver=\"auto\")\n",
    "#pca.fit(X_train_numerical)\n",
    "#X_train_numerical = pca.transform(X_train_numerical)\n",
    "#X_test_numerical = pca.transform(X_test_numerical)\n",
    "\n",
    "# recomposing X_train and X_test\n",
    "X_train = np.hstack((X_train_numerical, X_train_categorical,))\n",
    "X_test = np.hstack((X_test_numerical, X_test_categorical,))"
   ]
  }
 ],
 "metadata": {
  "interpreter": {
   "hash": "fd86e9477a69c659a08d66b84022f5f9bd15875679eb9c1dfdd3b3f73d8a5feb"
  },
  "kernelspec": {
   "display_name": "Python 3.9.7 64-bit ('dslab': conda)",
   "language": "python",
   "name": "python3"
  },
  "language_info": {
   "codemirror_mode": {
    "name": "ipython",
    "version": 3
   },
   "file_extension": ".py",
   "mimetype": "text/x-python",
   "name": "python",
   "nbconvert_exporter": "python",
   "pygments_lexer": "ipython3",
   "version": "3.9.7"
  },
  "orig_nbformat": 4
 },
 "nbformat": 4,
 "nbformat_minor": 2
}
