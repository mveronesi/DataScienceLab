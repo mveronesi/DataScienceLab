{
 "cells": [
  {
   "cell_type": "code",
   "execution_count": null,
   "metadata": {},
   "outputs": [],
   "source": [
    "import csv\n",
    "from tqdm import tqdm\n",
    "import pandas as pd\n",
    "from mlxtend import frequent_patterns as fp"
   ]
  },
  {
   "cell_type": "code",
   "execution_count": 2,
   "metadata": {},
   "outputs": [
    {
     "name": "stdout",
     "output_type": "stream",
     "text": [
      "READING DATABASE\n"
     ]
    },
    {
     "name": "stderr",
     "output_type": "stream",
     "text": [
      "541909it [00:01, 349905.70it/s]\n"
     ]
    },
    {
     "name": "stdout",
     "output_type": "stream",
     "text": [
      "DONE\n"
     ]
    }
   ],
   "source": [
    "dataset = []\n",
    "\n",
    "with open(\"../datasets/online_retail.csv\") as f:\n",
    "    print(\"READING DATABASE\")\n",
    "    next(f)\n",
    "    for row in tqdm(csv.reader(f)):\n",
    "        if row[0][0] != \"C\":\n",
    "            dataset.append({\n",
    "                \"InvoiceNo\": row[0],\n",
    "                \"StockCode\": row[1],\n",
    "                \"Description\": row[2],\n",
    "                \"Quantity\": int(row[3]),\n",
    "                \"InvoiceDate\": row[4],\n",
    "                \"UnitPrice\": float(row[5]),\n",
    "                \"CustomerID\": row[6],\n",
    "                \"Country\": row[7]\n",
    "            })\n",
    "dataset.sort(key= lambda l: l[\"InvoiceNo\"])\n",
    "print(\"DONE\")"
   ]
  },
  {
   "cell_type": "code",
   "execution_count": 3,
   "metadata": {},
   "outputs": [
    {
     "name": "stdout",
     "output_type": "stream",
     "text": [
      "AGGREGATING DATASET\n"
     ]
    },
    {
     "name": "stderr",
     "output_type": "stream",
     "text": [
      "100%|██████████████████████████████| 532621/532621 [00:00<00:00, 1058726.53it/s]"
     ]
    },
    {
     "name": "stdout",
     "output_type": "stream",
     "text": [
      "DONE\n"
     ]
    },
    {
     "name": "stderr",
     "output_type": "stream",
     "text": [
      "\n"
     ]
    }
   ],
   "source": [
    "print(\"AGGREGATING DATASET\")\n",
    "item_sets = {}\n",
    "items = set()\n",
    "prev = \"\"\n",
    "for t in tqdm(dataset):\n",
    "    if t[\"InvoiceNo\"] != prev:\n",
    "        prev = t[\"InvoiceNo\"]\n",
    "        item_sets[prev] = set()\n",
    "    item_sets[t[\"InvoiceNo\"]].add(t[\"Description\"])\n",
    "    items.add(t[\"Description\"])\n",
    "print(\"DONE\")\n",
    "\n",
    "items = list(items)"
   ]
  },
  {
   "cell_type": "code",
   "execution_count": 4,
   "metadata": {},
   "outputs": [
    {
     "name": "stdout",
     "output_type": "stream",
     "text": [
      "GENERATING MLXTEND MATRIX (which actually is a sparse matrix)\n"
     ]
    },
    {
     "name": "stderr",
     "output_type": "stream",
     "text": [
      "100%|███████████████████████████████████| 22064/22064 [00:11<00:00, 1903.75it/s]"
     ]
    },
    {
     "name": "stdout",
     "output_type": "stream",
     "text": [
      "DONE\n"
     ]
    },
    {
     "name": "stderr",
     "output_type": "stream",
     "text": [
      "\n"
     ]
    }
   ],
   "source": [
    "print(\"GENERATING MLXTEND MATRIX (which actually is a sparse matrix)\")\n",
    "pa_matrix = []\n",
    "for set in tqdm(item_sets.values()):\n",
    "    tmp = []\n",
    "    for item in items:\n",
    "        tmp.append(1 if item in set else 0)\n",
    "    pa_matrix.append(tmp)\n",
    "print(\"DONE\")"
   ]
  },
  {
   "cell_type": "code",
   "execution_count": 5,
   "metadata": {},
   "outputs": [
    {
     "name": "stdout",
     "output_type": "stream",
     "text": [
      "GENERATING PANDAS DATAFRAME\n",
      "DONE\n"
     ]
    }
   ],
   "source": [
    "print(\"GENERATING PANDAS DATAFRAME\")\n",
    "df = pd.DataFrame(data=pa_matrix, columns=items)\n",
    "print(\"DONE\")"
   ]
  },
  {
   "cell_type": "code",
   "execution_count": 12,
   "metadata": {},
   "outputs": [
    {
     "name": "stdout",
     "output_type": "stream",
     "text": [
      "EXTRACTING ASSOCIATION RULES\n",
      "Number of associaton rules 303\n",
      "DONE: found  2  association rules\n"
     ]
    }
   ],
   "source": [
    "print(\"EXTRACTING ASSOCIATION RULES\")\n",
    "fi = fp.fpgrowth(df, min_support=0.02, use_colnames=True)\n",
    "print(\"Number of associaton rules\", len(fi))\n",
    "#print(fi.to_string())\n",
    "rules = fp.association_rules(fi, metric='confidence', min_threshold=0.85)\n",
    "print(\"DONE: found \", len(rules), \" association rules\")"
   ]
  },
  {
   "cell_type": "code",
   "execution_count": 7,
   "metadata": {},
   "outputs": [],
   "source": [
    "with open(\"association_rules.txt\", \"w\") as f:\n",
    "    f.write(rules.to_string())"
   ]
  },
  {
   "cell_type": "code",
   "execution_count": 14,
   "metadata": {},
   "outputs": [
    {
     "name": "stdout",
     "output_type": "stream",
     "text": [
      "With apriori algorithm:  1\n",
      "Empty DataFrame\n",
      "Columns: [antecedents, consequents, antecedent support, consequent support, support, confidence, lift, leverage, conviction]\n",
      "Index: []\n"
     ]
    }
   ],
   "source": [
    "# using apriori algorithm\n",
    "fi_apriori = fp.apriori(df, min_support=0.1, use_colnames=True)\n",
    "print(\"With apriori algorithm: \", len(fi_apriori))\n",
    "rules_apriori = fp.association_rules(fi_apriori, metric='confidence', min_threshold=0.85)\n",
    "print(rules_apriori.to_string())"
   ]
  },
  {
   "cell_type": "code",
   "execution_count": null,
   "metadata": {},
   "outputs": [],
   "source": []
  }
 ],
 "metadata": {
  "kernelspec": {
   "display_name": "Python 3 (ipykernel)",
   "language": "python",
   "name": "python3"
  },
  "language_info": {
   "codemirror_mode": {
    "name": "ipython",
    "version": 3
   },
   "file_extension": ".py",
   "mimetype": "text/x-python",
   "name": "python",
   "nbconvert_exporter": "python",
   "pygments_lexer": "ipython3",
   "version": "3.9.7"
  }
 },
 "nbformat": 4,
 "nbformat_minor": 2
}
