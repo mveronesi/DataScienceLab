{
 "cells": [
  {
   "cell_type": "code",
   "execution_count": 2,
   "metadata": {},
   "outputs": [],
   "source": [
    "import pandas as pd\n",
    "import numpy as np\n",
    "from sklearn.feature_extraction.text import TfidfVectorizer\n",
    "from IPython.display import display\n",
    "from sklearn.model_selection import train_test_split\n",
    "from sklearn.metrics import f1_score\n",
    "import seaborn as sns\n",
    "from matplotlib import pyplot as plt\n",
    "from nlp import LemmaTokenizer\n",
    "from sklearn.ensemble import RandomForestClassifier"
   ]
  },
  {
   "cell_type": "code",
   "execution_count": 3,
   "metadata": {},
   "outputs": [
    {
     "name": "stderr",
     "output_type": "stream",
     "text": [
      "/home/mveronesi/.conda/envs/dslab/lib/python3.9/site-packages/dateutil/parser/_parser.py:1207: UnknownTimezoneWarning: tzname PDT identified but not understood.  Pass `tzinfos` argument in order to correctly return a timezone-aware datetime.  In a future version, this will raise an exception.\n",
      "  warnings.warn(\"tzname {tzname} identified but not understood.  \"\n"
     ]
    }
   ],
   "source": [
    "df_dev = pd.read_csv(\"dataset/development.csv\", index_col=\"ids\", infer_datetime_format=True, parse_dates=[2])\n",
    "df_eval = pd.read_csv(\"dataset/evaluation.csv\", infer_datetime_format=True, parse_dates=[1])\n",
    "df_dev.drop(columns=[\"flag\", \"user\"], inplace=True)\n",
    "df_eval.drop(columns=[\"flag\", \"user\"], inplace=True)\n",
    "df_dev.drop_duplicates(keep='first' ,inplace=True)\n",
    "# rimozione tweet duplicati con sentiment diverso\n",
    "c = df_dev.index.value_counts()\n",
    "c = c[c > 1]\n",
    "indexes_to_remove = c.index.values\n",
    "df_dev.drop(labels=indexes_to_remove, inplace=True)"
   ]
  },
  {
   "cell_type": "code",
   "execution_count": 4,
   "metadata": {},
   "outputs": [],
   "source": [
    "dates_dev = df_dev[\"date\"]\n",
    "dates_eval = df_eval[\"date\"]"
   ]
  },
  {
   "cell_type": "code",
   "execution_count": 5,
   "metadata": {},
   "outputs": [
    {
     "name": "stdout",
     "output_type": "stream",
     "text": [
      "2009    224414\n",
      "Name: date, dtype: int64\n",
      "2009    74999\n",
      "Name: date, dtype: int64\n"
     ]
    }
   ],
   "source": [
    "print(dates_dev.apply(lambda x: x.year).value_counts())\n",
    "print(dates_eval.apply(lambda x: x.year).value_counts())\n",
    "# all samples in df_dev and df_eval are collected in year 2009"
   ]
  },
  {
   "cell_type": "code",
   "execution_count": 6,
   "metadata": {},
   "outputs": [
    {
     "data": {
      "text/plain": [
       "<BarContainer object of 3 artists>"
      ]
     },
     "execution_count": 6,
     "metadata": {},
     "output_type": "execute_result"
    },
    {
     "data": {
      "image/png": "[encoded data removed]",
      "text/plain": [
       "<Figure size 432x288 with 1 Axes>"
      ]
     },
     "metadata": {
      "needs_background": "light"
     },
     "output_type": "display_data"
    }
   ],
   "source": [
    "months_dev = dates_dev.apply(lambda x: x.month_name()).value_counts()\n",
    "plt.bar(months_dev.index.values, months_dev.values)\n",
    "months_eval = dates_eval.apply(lambda x: x.month_name()).value_counts()\n",
    "plt.bar(months_eval.index.values, months_eval.values)"
   ]
  },
  {
   "cell_type": "code",
   "execution_count": 7,
   "metadata": {},
   "outputs": [
    {
     "data": {
      "text/plain": [
       "<BarContainer object of 24 artists>"
      ]
     },
     "execution_count": 7,
     "metadata": {},
     "output_type": "execute_result"
    },
    {
     "data": {
      "image/png": "[encoded data removed]",
      "text/plain": [
       "<Figure size 432x288 with 1 Axes>"
      ]
     },
     "metadata": {
      "needs_background": "light"
     },
     "output_type": "display_data"
    }
   ],
   "source": [
    "# hours distribution\n",
    "hours_dev = dates_dev.apply(lambda x: x.hour).value_counts()\n",
    "plt.bar(hours_dev.index.values, hours_dev.values)\n",
    "hours_eval = dates_eval.apply(lambda x: x.hour).value_counts()\n",
    "plt.bar(hours_eval.index.values, hours_eval.values)"
   ]
  },
  {
   "cell_type": "code",
   "execution_count": 8,
   "metadata": {},
   "outputs": [
    {
     "data": {
      "text/plain": [
       "<BarContainer object of 7 artists>"
      ]
     },
     "execution_count": 8,
     "metadata": {},
     "output_type": "execute_result"
    },
    {
     "data": {
      "image/png": "[encoded data removed]",
      "text/plain": [
       "<Figure size 432x288 with 1 Axes>"
      ]
     },
     "metadata": {
      "needs_background": "light"
     },
     "output_type": "display_data"
    }
   ],
   "source": [
    "# day of the week distribution\n",
    "weekday_dev = dates_dev.apply(lambda x: x.weekday()).value_counts()\n",
    "plt.bar(weekday_dev.index.values, weekday_dev.values)\n",
    "weekday_eval = dates_eval.apply(lambda x: x.weekday()).value_counts()\n",
    "plt.bar(weekday_eval.index.values, weekday_eval.values)"
   ]
  },
  {
   "cell_type": "code",
   "execution_count": 9,
   "metadata": {},
   "outputs": [],
   "source": [
    "df_dev[\"month\"] = df_dev[\"date\"].apply(lambda x: x.month_name())\n",
    "df_dev[\"weekday\"] = df_dev[\"date\"].apply(lambda x: x.weekday())\n",
    "df_dev[\"hour\"] = df_dev[\"date\"].apply(lambda x: x.hour)"
   ]
  },
  {
   "cell_type": "code",
   "execution_count": 10,
   "metadata": {},
   "outputs": [],
   "source": [
    "df_dev = pd.get_dummies(df_dev, columns=[\"month\", \"weekday\", \"hour\"]).drop(columns=[\"date\"])"
   ]
  }
 ],
 "metadata": {
  "interpreter": {
   "hash": "fd86e9477a69c659a08d66b84022f5f9bd15875679eb9c1dfdd3b3f73d8a5feb"
  },
  "kernelspec": {
   "display_name": "Python 3.9.7 64-bit ('dslab': conda)",
   "language": "python",
   "name": "python3"
  },
  "language_info": {
   "codemirror_mode": {
    "name": "ipython",
    "version": 3
   },
   "file_extension": ".py",
   "mimetype": "text/x-python",
   "name": "python",
   "nbconvert_exporter": "python",
   "pygments_lexer": "ipython3",
   "version": "3.9.7"
  },
  "orig_nbformat": 4
 },
 "nbformat": 4,
 "nbformat_minor": 2
}
